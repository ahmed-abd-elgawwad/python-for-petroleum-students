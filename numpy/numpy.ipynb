{
 "cells": [
  {
   "cell_type": "markdown",
   "id": "1a69f495",
   "metadata": {},
   "source": [
    "# <span style=\"font-weight:900 \"> Numpy basic intro "
   ]
  },
  {
   "cell_type": "markdown",
   "id": "98d6a4d1",
   "metadata": {},
   "source": [
    "### 1.Arrays and matricies\n",
    "    - why array not python list\n",
    "    - array creation and attributes\n",
    "    - working with the data in the array\n",
    "    - np.array() | np.ones | np.zeros() | np.arrang() | np.linspace() | np.logspace() |\n",
    "   \n",
    "### 2.random module\n",
    "    - initialize random values \n",
    "### 3.draw data from distributions\n",
    "    - normal distribution\n",
    "    - uniform distributino\n",
    "### 4.normalizing data \n",
    "    - data scaling \n",
    "    - data normalization\n",
    "    "
   ]
  },
  {
   "cell_type": "code",
   "execution_count": null,
   "id": "93f61ea2",
   "metadata": {},
   "outputs": [],
   "source": []
  }
 ],
 "metadata": {
  "kernelspec": {
   "display_name": "Python 3 (ipykernel)",
   "language": "python",
   "name": "python3"
  },
  "language_info": {
   "codemirror_mode": {
    "name": "ipython",
    "version": 3
   },
   "file_extension": ".py",
   "mimetype": "text/x-python",
   "name": "python",
   "nbconvert_exporter": "python",
   "pygments_lexer": "ipython3",
   "version": "3.9.13"
  }
 },
 "nbformat": 4,
 "nbformat_minor": 5
}
