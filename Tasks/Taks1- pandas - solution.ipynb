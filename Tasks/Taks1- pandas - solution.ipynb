{
 "cells": [
  {
   "cell_type": "code",
   "execution_count": 1,
   "id": "fd705c95-b517-4520-a00e-a62dea003816",
   "metadata": {},
   "outputs": [],
   "source": [
    "import pandas as pd\n",
    "import numpy as np\n",
    "import matplotlib.pyplot as plt\n",
    "import seaborn as sns "
   ]
  },
  {
   "cell_type": "code",
   "execution_count": 2,
   "id": "b069bb07-52eb-483e-a885-a462d906f7dd",
   "metadata": {},
   "outputs": [
    {
     "data": {
      "text/html": [
       "<div>\n",
       "<style scoped>\n",
       "    .dataframe tbody tr th:only-of-type {\n",
       "        vertical-align: middle;\n",
       "    }\n",
       "\n",
       "    .dataframe tbody tr th {\n",
       "        vertical-align: top;\n",
       "    }\n",
       "\n",
       "    .dataframe thead th {\n",
       "        text-align: right;\n",
       "    }\n",
       "</style>\n",
       "<table border=\"1\" class=\"dataframe\">\n",
       "  <thead>\n",
       "    <tr style=\"text-align: right;\">\n",
       "      <th></th>\n",
       "      <th>DATEPRD</th>\n",
       "      <th>WELL_BORE_CODE</th>\n",
       "      <th>NPD_WELL_BORE_CODE</th>\n",
       "      <th>NPD_WELL_BORE_NAME</th>\n",
       "      <th>NPD_FIELD_CODE</th>\n",
       "      <th>NPD_FIELD_NAME</th>\n",
       "      <th>NPD_FACILITY_CODE</th>\n",
       "      <th>NPD_FACILITY_NAME</th>\n",
       "      <th>ON_STREAM_HRS</th>\n",
       "      <th>AVG_DOWNHOLE_PRESSURE</th>\n",
       "      <th>...</th>\n",
       "      <th>AVG_CHOKE_UOM</th>\n",
       "      <th>AVG_WHP_P</th>\n",
       "      <th>AVG_WHT_P</th>\n",
       "      <th>DP_CHOKE_SIZE</th>\n",
       "      <th>BORE_OIL_VOL</th>\n",
       "      <th>BORE_GAS_VOL</th>\n",
       "      <th>BORE_WAT_VOL</th>\n",
       "      <th>BORE_WI_VOL</th>\n",
       "      <th>FLOW_KIND</th>\n",
       "      <th>WELL_TYPE</th>\n",
       "    </tr>\n",
       "  </thead>\n",
       "  <tbody>\n",
       "    <tr>\n",
       "      <th>0</th>\n",
       "      <td>2014-04-07</td>\n",
       "      <td>NO 15/9-F-1 C</td>\n",
       "      <td>7405</td>\n",
       "      <td>15/9-F-1 C</td>\n",
       "      <td>3420717</td>\n",
       "      <td>VOLVE</td>\n",
       "      <td>369304</td>\n",
       "      <td>MÆRSK INSPIRER</td>\n",
       "      <td>0.0</td>\n",
       "      <td>0.00000</td>\n",
       "      <td>...</td>\n",
       "      <td>%</td>\n",
       "      <td>0.00000</td>\n",
       "      <td>0.00000</td>\n",
       "      <td>0.00000</td>\n",
       "      <td>0.0</td>\n",
       "      <td>0.0</td>\n",
       "      <td>0.0</td>\n",
       "      <td>NaN</td>\n",
       "      <td>production</td>\n",
       "      <td>WI</td>\n",
       "    </tr>\n",
       "    <tr>\n",
       "      <th>1</th>\n",
       "      <td>2014-04-08</td>\n",
       "      <td>NO 15/9-F-1 C</td>\n",
       "      <td>7405</td>\n",
       "      <td>15/9-F-1 C</td>\n",
       "      <td>3420717</td>\n",
       "      <td>VOLVE</td>\n",
       "      <td>369304</td>\n",
       "      <td>MÆRSK INSPIRER</td>\n",
       "      <td>0.0</td>\n",
       "      <td>NaN</td>\n",
       "      <td>...</td>\n",
       "      <td>%</td>\n",
       "      <td>0.00000</td>\n",
       "      <td>0.00000</td>\n",
       "      <td>0.00000</td>\n",
       "      <td>0.0</td>\n",
       "      <td>0.0</td>\n",
       "      <td>0.0</td>\n",
       "      <td>NaN</td>\n",
       "      <td>production</td>\n",
       "      <td>OP</td>\n",
       "    </tr>\n",
       "    <tr>\n",
       "      <th>2</th>\n",
       "      <td>2014-04-09</td>\n",
       "      <td>NO 15/9-F-1 C</td>\n",
       "      <td>7405</td>\n",
       "      <td>15/9-F-1 C</td>\n",
       "      <td>3420717</td>\n",
       "      <td>VOLVE</td>\n",
       "      <td>369304</td>\n",
       "      <td>MÆRSK INSPIRER</td>\n",
       "      <td>0.0</td>\n",
       "      <td>NaN</td>\n",
       "      <td>...</td>\n",
       "      <td>%</td>\n",
       "      <td>0.00000</td>\n",
       "      <td>0.00000</td>\n",
       "      <td>0.00000</td>\n",
       "      <td>0.0</td>\n",
       "      <td>0.0</td>\n",
       "      <td>0.0</td>\n",
       "      <td>NaN</td>\n",
       "      <td>production</td>\n",
       "      <td>OP</td>\n",
       "    </tr>\n",
       "    <tr>\n",
       "      <th>3</th>\n",
       "      <td>2014-04-10</td>\n",
       "      <td>NO 15/9-F-1 C</td>\n",
       "      <td>7405</td>\n",
       "      <td>15/9-F-1 C</td>\n",
       "      <td>3420717</td>\n",
       "      <td>VOLVE</td>\n",
       "      <td>369304</td>\n",
       "      <td>MÆRSK INSPIRER</td>\n",
       "      <td>0.0</td>\n",
       "      <td>NaN</td>\n",
       "      <td>...</td>\n",
       "      <td>%</td>\n",
       "      <td>0.00000</td>\n",
       "      <td>0.00000</td>\n",
       "      <td>0.00000</td>\n",
       "      <td>0.0</td>\n",
       "      <td>0.0</td>\n",
       "      <td>0.0</td>\n",
       "      <td>NaN</td>\n",
       "      <td>production</td>\n",
       "      <td>OP</td>\n",
       "    </tr>\n",
       "    <tr>\n",
       "      <th>4</th>\n",
       "      <td>2014-04-11</td>\n",
       "      <td>NO 15/9-F-1 C</td>\n",
       "      <td>7405</td>\n",
       "      <td>15/9-F-1 C</td>\n",
       "      <td>3420717</td>\n",
       "      <td>VOLVE</td>\n",
       "      <td>369304</td>\n",
       "      <td>MÆRSK INSPIRER</td>\n",
       "      <td>0.0</td>\n",
       "      <td>310.37614</td>\n",
       "      <td>...</td>\n",
       "      <td>%</td>\n",
       "      <td>33.09788</td>\n",
       "      <td>10.47992</td>\n",
       "      <td>33.07195</td>\n",
       "      <td>0.0</td>\n",
       "      <td>0.0</td>\n",
       "      <td>0.0</td>\n",
       "      <td>NaN</td>\n",
       "      <td>production</td>\n",
       "      <td>OP</td>\n",
       "    </tr>\n",
       "  </tbody>\n",
       "</table>\n",
       "<p>5 rows × 24 columns</p>\n",
       "</div>"
      ],
      "text/plain": [
       "     DATEPRD WELL_BORE_CODE  NPD_WELL_BORE_CODE NPD_WELL_BORE_NAME  \\\n",
       "0 2014-04-07  NO 15/9-F-1 C                7405         15/9-F-1 C   \n",
       "1 2014-04-08  NO 15/9-F-1 C                7405         15/9-F-1 C   \n",
       "2 2014-04-09  NO 15/9-F-1 C                7405         15/9-F-1 C   \n",
       "3 2014-04-10  NO 15/9-F-1 C                7405         15/9-F-1 C   \n",
       "4 2014-04-11  NO 15/9-F-1 C                7405         15/9-F-1 C   \n",
       "\n",
       "   NPD_FIELD_CODE NPD_FIELD_NAME  NPD_FACILITY_CODE NPD_FACILITY_NAME  \\\n",
       "0         3420717          VOLVE             369304    MÆRSK INSPIRER   \n",
       "1         3420717          VOLVE             369304    MÆRSK INSPIRER   \n",
       "2         3420717          VOLVE             369304    MÆRSK INSPIRER   \n",
       "3         3420717          VOLVE             369304    MÆRSK INSPIRER   \n",
       "4         3420717          VOLVE             369304    MÆRSK INSPIRER   \n",
       "\n",
       "   ON_STREAM_HRS  AVG_DOWNHOLE_PRESSURE  ...  AVG_CHOKE_UOM  AVG_WHP_P  \\\n",
       "0            0.0                0.00000  ...              %    0.00000   \n",
       "1            0.0                    NaN  ...              %    0.00000   \n",
       "2            0.0                    NaN  ...              %    0.00000   \n",
       "3            0.0                    NaN  ...              %    0.00000   \n",
       "4            0.0              310.37614  ...              %   33.09788   \n",
       "\n",
       "   AVG_WHT_P  DP_CHOKE_SIZE BORE_OIL_VOL  BORE_GAS_VOL  BORE_WAT_VOL  \\\n",
       "0    0.00000        0.00000          0.0           0.0           0.0   \n",
       "1    0.00000        0.00000          0.0           0.0           0.0   \n",
       "2    0.00000        0.00000          0.0           0.0           0.0   \n",
       "3    0.00000        0.00000          0.0           0.0           0.0   \n",
       "4   10.47992       33.07195          0.0           0.0           0.0   \n",
       "\n",
       "   BORE_WI_VOL   FLOW_KIND  WELL_TYPE  \n",
       "0          NaN  production         WI  \n",
       "1          NaN  production         OP  \n",
       "2          NaN  production         OP  \n",
       "3          NaN  production         OP  \n",
       "4          NaN  production         OP  \n",
       "\n",
       "[5 rows x 24 columns]"
      ]
     },
     "execution_count": 2,
     "metadata": {},
     "output_type": "execute_result"
    }
   ],
   "source": [
    "df = pd.read_excel(\"../data/Volve production data.xlsx\")\n",
    "df.head()"
   ]
  },
  {
   "cell_type": "markdown",
   "id": "29f75e56-dc72-4908-9e77-c25f685de0e5",
   "metadata": {
    "tags": []
   },
   "source": [
    "### Q1: What is the contribution of each well in oil , gas , water production ?"
   ]
  },
  {
   "cell_type": "code",
   "execution_count": 17,
   "id": "b88620af-7ac8-4c68-89c1-9ad6d4c2838e",
   "metadata": {},
   "outputs": [
    {
     "data": {
      "text/html": [
       "<div>\n",
       "<style scoped>\n",
       "    .dataframe tbody tr th:only-of-type {\n",
       "        vertical-align: middle;\n",
       "    }\n",
       "\n",
       "    .dataframe tbody tr th {\n",
       "        vertical-align: top;\n",
       "    }\n",
       "\n",
       "    .dataframe thead th {\n",
       "        text-align: right;\n",
       "    }\n",
       "</style>\n",
       "<table border=\"1\" class=\"dataframe\">\n",
       "  <thead>\n",
       "    <tr style=\"text-align: right;\">\n",
       "      <th></th>\n",
       "      <th>BORE_OIL_VOL</th>\n",
       "      <th>BORE_WAT_VOL</th>\n",
       "      <th>BORE_GAS_VOL</th>\n",
       "    </tr>\n",
       "    <tr>\n",
       "      <th>NPD_WELL_BORE_NAME</th>\n",
       "      <th></th>\n",
       "      <th></th>\n",
       "      <th></th>\n",
       "    </tr>\n",
       "  </thead>\n",
       "  <tbody>\n",
       "    <tr>\n",
       "      <th>15/9-F-1 C</th>\n",
       "      <td>177709.33</td>\n",
       "      <td>207302.39</td>\n",
       "      <td>2.644092e+07</td>\n",
       "    </tr>\n",
       "    <tr>\n",
       "      <th>15/9-F-11</th>\n",
       "      <td>1147849.10</td>\n",
       "      <td>1090806.27</td>\n",
       "      <td>1.743105e+08</td>\n",
       "    </tr>\n",
       "    <tr>\n",
       "      <th>15/9-F-12</th>\n",
       "      <td>4579609.55</td>\n",
       "      <td>6833320.37</td>\n",
       "      <td>6.675423e+08</td>\n",
       "    </tr>\n",
       "    <tr>\n",
       "      <th>15/9-F-14</th>\n",
       "      <td>3942233.39</td>\n",
       "      <td>7121249.74</td>\n",
       "      <td>5.780095e+08</td>\n",
       "    </tr>\n",
       "    <tr>\n",
       "      <th>15/9-F-15 D</th>\n",
       "      <td>148518.56</td>\n",
       "      <td>52366.40</td>\n",
       "      <td>2.250535e+07</td>\n",
       "    </tr>\n",
       "    <tr>\n",
       "      <th>15/9-F-5</th>\n",
       "      <td>41160.68</td>\n",
       "      <td>13533.18</td>\n",
       "      <td>6.561826e+06</td>\n",
       "    </tr>\n",
       "  </tbody>\n",
       "</table>\n",
       "</div>"
      ],
      "text/plain": [
       "                    BORE_OIL_VOL  BORE_WAT_VOL  BORE_GAS_VOL\n",
       "NPD_WELL_BORE_NAME                                          \n",
       "15/9-F-1 C             177709.33     207302.39  2.644092e+07\n",
       "15/9-F-11             1147849.10    1090806.27  1.743105e+08\n",
       "15/9-F-12             4579609.55    6833320.37  6.675423e+08\n",
       "15/9-F-14             3942233.39    7121249.74  5.780095e+08\n",
       "15/9-F-15 D            148518.56      52366.40  2.250535e+07\n",
       "15/9-F-5                41160.68      13533.18  6.561826e+06"
      ]
     },
     "execution_count": 17,
     "metadata": {},
     "output_type": "execute_result"
    }
   ],
   "source": [
    "# grouping by each well \n",
    "d = df.groupby(\"NPD_WELL_BORE_NAME\")[[\"BORE_OIL_VOL\",\"BORE_WAT_VOL\",\"BORE_GAS_VOL\"]].sum().drop(index=\"15/9-F-4\")\n",
    "d"
   ]
  },
  {
   "cell_type": "code",
   "execution_count": 21,
   "id": "03cea42b-05ed-4b53-b60a-629ab59e0cbb",
   "metadata": {},
   "outputs": [
    {
     "data": {
      "text/html": [
       "<div>\n",
       "<style scoped>\n",
       "    .dataframe tbody tr th:only-of-type {\n",
       "        vertical-align: middle;\n",
       "    }\n",
       "\n",
       "    .dataframe tbody tr th {\n",
       "        vertical-align: top;\n",
       "    }\n",
       "\n",
       "    .dataframe thead th {\n",
       "        text-align: right;\n",
       "    }\n",
       "</style>\n",
       "<table border=\"1\" class=\"dataframe\">\n",
       "  <thead>\n",
       "    <tr style=\"text-align: right;\">\n",
       "      <th></th>\n",
       "      <th>BORE_OIL_VOL</th>\n",
       "      <th>BORE_WAT_VOL</th>\n",
       "      <th>BORE_GAS_VOL</th>\n",
       "    </tr>\n",
       "    <tr>\n",
       "      <th>NPD_WELL_BORE_NAME</th>\n",
       "      <th></th>\n",
       "      <th></th>\n",
       "      <th></th>\n",
       "    </tr>\n",
       "  </thead>\n",
       "  <tbody>\n",
       "    <tr>\n",
       "      <th>15/9-F-1 C</th>\n",
       "      <td>1.77 %</td>\n",
       "      <td>1.35 %</td>\n",
       "      <td>1.79 %</td>\n",
       "    </tr>\n",
       "    <tr>\n",
       "      <th>15/9-F-11</th>\n",
       "      <td>11.44 %</td>\n",
       "      <td>7.12 %</td>\n",
       "      <td>11.81 %</td>\n",
       "    </tr>\n",
       "    <tr>\n",
       "      <th>15/9-F-12</th>\n",
       "      <td>45.63 %</td>\n",
       "      <td>44.61 %</td>\n",
       "      <td>45.25 %</td>\n",
       "    </tr>\n",
       "    <tr>\n",
       "      <th>15/9-F-14</th>\n",
       "      <td>39.28 %</td>\n",
       "      <td>46.49 %</td>\n",
       "      <td>39.18 %</td>\n",
       "    </tr>\n",
       "    <tr>\n",
       "      <th>15/9-F-15 D</th>\n",
       "      <td>1.48 %</td>\n",
       "      <td>0.34 %</td>\n",
       "      <td>1.53 %</td>\n",
       "    </tr>\n",
       "    <tr>\n",
       "      <th>15/9-F-5</th>\n",
       "      <td>0.41 %</td>\n",
       "      <td>0.09 %</td>\n",
       "      <td>0.44 %</td>\n",
       "    </tr>\n",
       "  </tbody>\n",
       "</table>\n",
       "</div>"
      ],
      "text/plain": [
       "                   BORE_OIL_VOL BORE_WAT_VOL BORE_GAS_VOL\n",
       "NPD_WELL_BORE_NAME                                       \n",
       "15/9-F-1 C               1.77 %       1.35 %       1.79 %\n",
       "15/9-F-11               11.44 %       7.12 %      11.81 %\n",
       "15/9-F-12               45.63 %      44.61 %      45.25 %\n",
       "15/9-F-14               39.28 %      46.49 %      39.18 %\n",
       "15/9-F-15 D              1.48 %       0.34 %       1.53 %\n",
       "15/9-F-5                 0.41 %       0.09 %       0.44 %"
      ]
     },
     "execution_count": 21,
     "metadata": {},
     "output_type": "execute_result"
    }
   ],
   "source": [
    "# percent\n",
    "d[\"BORE_OIL_VOL\"] =  ( d[\"BORE_OIL_VOL\"]  / sum(d[\"BORE_OIL_VOL\"] ) ) *100\n",
    "d[\"BORE_WAT_VOL\"] = (d[\"BORE_WAT_VOL\"]  / sum(d[\"BORE_WAT_VOL\"] ) ) *100\n",
    "d[\"BORE_GAS_VOL\"] = (d[\"BORE_GAS_VOL\"]  / sum(d[\"BORE_GAS_VOL\"] )) *100\n",
    "\n",
    "def formatt(x):\n",
    "    return str(round(x, 2) ) + \" %\"\n",
    "d.applymap(formatt)"
   ]
  },
  {
   "cell_type": "code",
   "execution_count": 20,
   "id": "e14b1d4c-4b56-493e-85f8-b0985de15295",
   "metadata": {},
   "outputs": [
    {
     "data": {
      "text/plain": [
       "'1.78 %'"
      ]
     },
     "execution_count": 20,
     "metadata": {},
     "output_type": "execute_result"
    }
   ],
   "source": [
    "str (round(1.7777 , 2) ) + \" %\""
   ]
  },
  {
   "cell_type": "markdown",
   "id": "b17bbc50-e4e0-45d2-a227-da3319728105",
   "metadata": {
    "jp-MarkdownHeadingCollapsed": true,
    "tags": []
   },
   "source": [
    "### Q2: Remove repeated pattern in well_bore_code column ?"
   ]
  },
  {
   "cell_type": "code",
   "execution_count": 22,
   "id": "8cd4da50-25ce-4979-9306-cc1ab8d3d957",
   "metadata": {},
   "outputs": [
    {
     "data": {
      "text/plain": [
       "array(['NO 15/9-F-1 C', 'NO 15/9-F-11 H', 'NO 15/9-F-12 H',\n",
       "       'NO 15/9-F-14 H', 'NO 15/9-F-15 D', 'NO 15/9-F-4 AH',\n",
       "       'NO 15/9-F-5 AH'], dtype=object)"
      ]
     },
     "execution_count": 22,
     "metadata": {},
     "output_type": "execute_result"
    }
   ],
   "source": [
    "# unique valeus\n",
    "df[\"WELL_BORE_CODE\"].unique()"
   ]
  },
  {
   "cell_type": "code",
   "execution_count": 23,
   "id": "c7b2e034-8d26-4f89-ab7b-e67a0a2a0f18",
   "metadata": {},
   "outputs": [
    {
     "data": {
      "text/plain": [
       "0         1 C\n",
       "1         1 C\n",
       "2         1 C\n",
       "3         1 C\n",
       "4         1 C\n",
       "         ... \n",
       "15629    5 AH\n",
       "15630    5 AH\n",
       "15631    5 AH\n",
       "15632    5 AH\n",
       "15633    5 AH\n",
       "Name: WELL_BORE_CODE, Length: 15634, dtype: object"
      ]
     },
     "execution_count": 23,
     "metadata": {},
     "output_type": "execute_result"
    }
   ],
   "source": [
    "# using replace\n",
    "df[\"WELL_BORE_CODE\"].str.replace(\"NO 15/9-F-\",\"\")"
   ]
  },
  {
   "cell_type": "code",
   "execution_count": 25,
   "id": "60f015d2-60de-459c-b35e-d849034db2ed",
   "metadata": {},
   "outputs": [
    {
     "data": {
      "text/plain": [
       "0         1 C\n",
       "1         1 C\n",
       "2         1 C\n",
       "3         1 C\n",
       "4         1 C\n",
       "         ... \n",
       "15629    5 AH\n",
       "15630    5 AH\n",
       "15631    5 AH\n",
       "15632    5 AH\n",
       "15633    5 AH\n",
       "Name: WELL_BORE_CODE, Length: 15634, dtype: object"
      ]
     },
     "execution_count": 25,
     "metadata": {},
     "output_type": "execute_result"
    }
   ],
   "source": [
    "# using slice\n",
    "df[\"WELL_BORE_CODE\"].str.slice(10)"
   ]
  },
  {
   "cell_type": "markdown",
   "id": "d5cae177-5da0-4639-89e6-ce242b309cb0",
   "metadata": {
    "tags": []
   },
   "source": [
    "### Q3: For Every month in the data , What is the average oil production ?"
   ]
  },
  {
   "cell_type": "code",
   "execution_count": 27,
   "id": "03568511-c797-4f6e-b59a-ff6eaa0ee948",
   "metadata": {},
   "outputs": [
    {
     "data": {
      "text/plain": [
       "DATEPRD\n",
       "1     1269.587872\n",
       "2     1137.495135\n",
       "3     1008.646520\n",
       "4     1063.245814\n",
       "5     1134.497449\n",
       "6     1071.916734\n",
       "7      907.791205\n",
       "8      891.570235\n",
       "9     1008.243140\n",
       "10    1236.836227\n",
       "11    1290.273926\n",
       "12    1235.506605\n",
       "Name: BORE_OIL_VOL, dtype: float64"
      ]
     },
     "execution_count": 27,
     "metadata": {},
     "output_type": "execute_result"
    }
   ],
   "source": [
    "# the wrong concept\n",
    "df.groupby(df[\"DATEPRD\"].dt.month)[\"BORE_OIL_VOL\"].mean()"
   ]
  },
  {
   "cell_type": "code",
   "execution_count": 30,
   "id": "ebf0e791-516e-4c1c-8ba0-eff4b78d8f1e",
   "metadata": {},
   "outputs": [
    {
     "data": {
      "text/html": [
       "<div>\n",
       "<style scoped>\n",
       "    .dataframe tbody tr th:only-of-type {\n",
       "        vertical-align: middle;\n",
       "    }\n",
       "\n",
       "    .dataframe tbody tr th {\n",
       "        vertical-align: top;\n",
       "    }\n",
       "\n",
       "    .dataframe thead th {\n",
       "        text-align: right;\n",
       "    }\n",
       "</style>\n",
       "<table border=\"1\" class=\"dataframe\">\n",
       "  <thead>\n",
       "    <tr style=\"text-align: right;\">\n",
       "      <th></th>\n",
       "      <th></th>\n",
       "      <th>BORE_OIL_VOL</th>\n",
       "    </tr>\n",
       "    <tr>\n",
       "      <th>year</th>\n",
       "      <th>month</th>\n",
       "      <th></th>\n",
       "    </tr>\n",
       "  </thead>\n",
       "  <tbody>\n",
       "    <tr>\n",
       "      <th rowspan=\"4\" valign=\"top\">2007</th>\n",
       "      <th>9</th>\n",
       "      <td>NaN</td>\n",
       "    </tr>\n",
       "    <tr>\n",
       "      <th>10</th>\n",
       "      <td>NaN</td>\n",
       "    </tr>\n",
       "    <tr>\n",
       "      <th>11</th>\n",
       "      <td>NaN</td>\n",
       "    </tr>\n",
       "    <tr>\n",
       "      <th>12</th>\n",
       "      <td>NaN</td>\n",
       "    </tr>\n",
       "    <tr>\n",
       "      <th>2008</th>\n",
       "      <th>1</th>\n",
       "      <td>NaN</td>\n",
       "    </tr>\n",
       "    <tr>\n",
       "      <th>...</th>\n",
       "      <th>...</th>\n",
       "      <td>...</td>\n",
       "    </tr>\n",
       "    <tr>\n",
       "      <th rowspan=\"5\" valign=\"top\">2016</th>\n",
       "      <th>8</th>\n",
       "      <td>160.997806</td>\n",
       "    </tr>\n",
       "    <tr>\n",
       "      <th>9</th>\n",
       "      <td>101.284471</td>\n",
       "    </tr>\n",
       "    <tr>\n",
       "      <th>10</th>\n",
       "      <td>NaN</td>\n",
       "    </tr>\n",
       "    <tr>\n",
       "      <th>11</th>\n",
       "      <td>NaN</td>\n",
       "    </tr>\n",
       "    <tr>\n",
       "      <th>12</th>\n",
       "      <td>NaN</td>\n",
       "    </tr>\n",
       "  </tbody>\n",
       "</table>\n",
       "<p>112 rows × 1 columns</p>\n",
       "</div>"
      ],
      "text/plain": [
       "            BORE_OIL_VOL\n",
       "year month              \n",
       "2007 9               NaN\n",
       "     10              NaN\n",
       "     11              NaN\n",
       "     12              NaN\n",
       "2008 1               NaN\n",
       "...                  ...\n",
       "2016 8        160.997806\n",
       "     9        101.284471\n",
       "     10              NaN\n",
       "     11              NaN\n",
       "     12              NaN\n",
       "\n",
       "[112 rows x 1 columns]"
      ]
     },
     "execution_count": 30,
     "metadata": {},
     "output_type": "execute_result"
    }
   ],
   "source": [
    "# gouping with two index\n",
    "df[\"month\"] = df[\"DATEPRD\"].dt.month\n",
    "df[\"year\"] = df[\"DATEPRD\"].dt.year\n",
    "( df.groupby([\"year\",\"month\"])[\"BORE_OIL_VOL\"].mean() ).to_frame()"
   ]
  },
  {
   "cell_type": "code",
   "execution_count": 31,
   "id": "0f75c72f-405a-433f-a4bc-5d33a86c0420",
   "metadata": {},
   "outputs": [],
   "source": [
    "# rasampling the date column\n",
    "df[\"monthly_date\"] = df[\"DATEPRD\"].dt.to_period('M')"
   ]
  },
  {
   "cell_type": "code",
   "execution_count": 33,
   "id": "87dde247-d658-4fc3-8acf-c351e53dccf2",
   "metadata": {},
   "outputs": [],
   "source": [
    "d= df.groupby(\"monthly_date\")[\"BORE_OIL_VOL\"].mean()"
   ]
  },
  {
   "cell_type": "code",
   "execution_count": 34,
   "id": "df4f8c3c-b666-4853-97f2-a9ccedc7e479",
   "metadata": {},
   "outputs": [
    {
     "data": {
      "text/plain": [
       "<AxesSubplot:xlabel='monthly_date'>"
      ]
     },
     "execution_count": 34,
     "metadata": {},
     "output_type": "execute_result"
    },
    {
     "data": {
      "image/png": "[encoded data removed]",
      "text/plain": [
       "<Figure size 640x480 with 1 Axes>"
      ]
     },
     "metadata": {},
     "output_type": "display_data"
    }
   ],
   "source": [
    "d.plot()"
   ]
  },
  {
   "cell_type": "markdown",
   "id": "87648db7-1756-4e0f-a23f-c8e44366bafd",
   "metadata": {
    "tags": []
   },
   "source": [
    "## Best Questions asked ?"
   ]
  },
  {
   "cell_type": "markdown",
   "id": "863d47fe-889b-4555-b80c-83a2a6cef2c6",
   "metadata": {
    "tags": []
   },
   "source": [
    "#### Which wells are injector and which are producers"
   ]
  },
  {
   "cell_type": "code",
   "execution_count": 35,
   "id": "e16e7ce8-f03e-41c7-bfc8-a1e648ec400c",
   "metadata": {},
   "outputs": [
    {
     "data": {
      "text/plain": [
       "WELL_BORE_CODE\n",
       "NO 15/9-F-1 C                [production]\n",
       "NO 15/9-F-11 H               [production]\n",
       "NO 15/9-F-12 H               [production]\n",
       "NO 15/9-F-14 H               [production]\n",
       "NO 15/9-F-15 D               [production]\n",
       "NO 15/9-F-4 AH                [injection]\n",
       "NO 15/9-F-5 AH    [injection, production]\n",
       "Name: FLOW_KIND, dtype: object"
      ]
     },
     "execution_count": 35,
     "metadata": {},
     "output_type": "execute_result"
    }
   ],
   "source": [
    "df.groupby([\"WELL_BORE_CODE\"])[\"FLOW_KIND\"].unique()"
   ]
  },
  {
   "cell_type": "markdown",
   "id": "766f7c6d-a5a3-4285-95ac-04a205663a00",
   "metadata": {},
   "source": [
    "#### Which well has worked the most ?"
   ]
  },
  {
   "cell_type": "code",
   "execution_count": 38,
   "id": "66fb4098-5bd1-4fcd-9ac3-55f5670f6d80",
   "metadata": {},
   "outputs": [
    {
     "data": {
      "text/plain": [
       "WELL_BORE_CODE\n",
       "NO 15/9-F-12 H    65204.06928\n",
       "NO 15/9-F-4 AH    64267.16117\n",
       "NO 15/9-F-14 H    62773.67519\n",
       "NO 15/9-F-5 AH    60829.85308\n",
       "NO 15/9-F-11 H    26006.21614\n",
       "NO 15/9-F-15 D    17824.83278\n",
       "NO 15/9-F-1 C      9983.53315\n",
       "Name: ON_STREAM_HRS, dtype: float64"
      ]
     },
     "execution_count": 38,
     "metadata": {},
     "output_type": "execute_result"
    }
   ],
   "source": [
    "df.groupby([\"WELL_BORE_CODE\"])[\"ON_STREAM_HRS\"].sum().sort_values(ascending=False)"
   ]
  },
  {
   "cell_type": "code",
   "execution_count": null,
   "id": "11375737-2db1-4bc0-ac20-e9951ba013c5",
   "metadata": {},
   "outputs": [],
   "source": []
  }
 ],
 "metadata": {
  "kernelspec": {
   "display_name": "Python 3 (ipykernel)",
   "language": "python",
   "name": "python3"
  },
  "language_info": {
   "codemirror_mode": {
    "name": "ipython",
    "version": 3
   },
   "file_extension": ".py",
   "mimetype": "text/x-python",
   "name": "python",
   "nbconvert_exporter": "python",
   "pygments_lexer": "ipython3",
   "version": "3.9.13"
  }
 },
 "nbformat": 4,
 "nbformat_minor": 5
}
