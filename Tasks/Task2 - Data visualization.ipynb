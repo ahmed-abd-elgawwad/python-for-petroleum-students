{
 "cells": [
  {
   "cell_type": "code",
   "execution_count": 1,
   "id": "42dc5153-cd7e-46e6-b39d-b5f5c5e8231e",
   "metadata": {},
   "outputs": [],
   "source": [
    "# import the libiraies\n"
   ]
  },
  {
   "cell_type": "code",
   "execution_count": 2,
   "id": "40c02c6a-9220-4764-ac9a-1d354529fb24",
   "metadata": {},
   "outputs": [],
   "source": [
    "# read the data frame and show the head"
   ]
  },
  {
   "cell_type": "markdown",
   "id": "d17925ca-d71c-4942-a450-8023c852f348",
   "metadata": {},
   "source": [
    "### <span style=\"font-weight:800;padding:5px\"> 1 | Select the appropriate plot to show the contribution of each well in oil , gas, water production. \n",
    "<hr>\n",
    "    <p> The answer should be 3 plot, one for oil and one for gas and one for water </p>"
   ]
  },
  {
   "cell_type": "code",
   "execution_count": null,
   "id": "ee38d43b-271b-459d-9b8a-fab6bfd43cc4",
   "metadata": {},
   "outputs": [],
   "source": []
  },
  {
   "cell_type": "code",
   "execution_count": null,
   "id": "e27daf65-9fb9-4e3b-994f-22ae4e4e8851",
   "metadata": {},
   "outputs": [],
   "source": []
  },
  {
   "cell_type": "code",
   "execution_count": null,
   "id": "1f4c6b87-c2d3-47ca-a22d-c46f4768bbf1",
   "metadata": {},
   "outputs": [],
   "source": []
  },
  {
   "cell_type": "markdown",
   "id": "ec661295-0793-4210-9953-8f571c23bd4f",
   "metadata": {},
   "source": [
    "### <span style=\"font-weight:800;padding:5px\"> 2 | Show the total production of each well [ oil, water ] in one plot \n",
    "<hr>   \n",
    "    <p> <span style=\"font-weight:700\">X-axis : </span> Should be the well name</p>\n",
    "    <p> <span style=\"font-weight:700\">Y-axis : </span> Should be total sum of oil, water production for that well</p>"
   ]
  },
  {
   "cell_type": "code",
   "execution_count": null,
   "id": "44f1049e-4b7c-4137-b564-eb9d957b2651",
   "metadata": {},
   "outputs": [],
   "source": []
  },
  {
   "cell_type": "code",
   "execution_count": null,
   "id": "501dbbcc-efe7-47f0-9f54-222d51c7fb03",
   "metadata": {},
   "outputs": [],
   "source": []
  },
  {
   "cell_type": "markdown",
   "id": "400ad022-cd6a-447e-b1e4-ff406339ab8c",
   "metadata": {},
   "source": [
    "### <span style=\"font-weight:800;padding:5px\"> 3 | Show the profile of the GOR for each well with time\n",
    "<hr>   \n",
    "    <p> <span style=\"font-weight:700\">X-axis : </span> Should be Time</p>\n",
    "    <p> <span style=\"font-weight:700\">Y-axis : </span> Should be GOR</p>"
   ]
  },
  {
   "cell_type": "code",
   "execution_count": null,
   "id": "8e959e40-977c-452b-8a62-bf90945ba1e3",
   "metadata": {},
   "outputs": [],
   "source": []
  },
  {
   "cell_type": "code",
   "execution_count": null,
   "id": "217215ab-0a1f-49e8-8580-6da7c2159860",
   "metadata": {},
   "outputs": [],
   "source": []
  },
  {
   "cell_type": "markdown",
   "id": "30ba49ab-0473-40d6-bb8e-4262a2942423",
   "metadata": {},
   "source": [
    "### <span style=\"font-weight:800;padding:5px\"> 4 | Show the Distribution of the AVG_DOWNHOLE_PRESSURE column\n",
    "<hr>   "
   ]
  },
  {
   "cell_type": "code",
   "execution_count": null,
   "id": "dcae8c4e-fcc3-4e72-97b9-62bb029a70c3",
   "metadata": {},
   "outputs": [],
   "source": []
  }
 ],
 "metadata": {
  "kernelspec": {
   "display_name": "Python 3 (ipykernel)",
   "language": "python",
   "name": "python3"
  },
  "language_info": {
   "codemirror_mode": {
    "name": "ipython",
    "version": 3
   },
   "file_extension": ".py",
   "mimetype": "text/x-python",
   "name": "python",
   "nbconvert_exporter": "python",
   "pygments_lexer": "ipython3",
   "version": "3.9.13"
  }
 },
 "nbformat": 4,
 "nbformat_minor": 5
}
